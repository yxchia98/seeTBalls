{
 "cells": [
  {
   "cell_type": "markdown",
   "id": "399d721d",
   "metadata": {},
   "source": [
    "# Model training\n",
    "## Load required packages\n",
    "Install and import YOLOv8 packages and libraries"
   ]
  },
  {
   "cell_type": "code",
   "execution_count": 84,
   "id": "5e81d97b",
   "metadata": {},
   "outputs": [
    {
     "name": "stderr",
     "output_type": "stream",
     "text": [
      "Ultralytics YOLOv8.0.113 🚀 Python-3.8.10 torch-1.14.0a0+44dac51 CPU\n",
      "Setup complete ✅ (8 CPUs, 31.4 GB RAM, 60.9/78.2 GB disk)\n"
     ]
    }
   ],
   "source": [
    "%pip install ultralytics\n",
    "import ultralytics\n",
    "ultralytics.checks()"
   ]
  },
  {
   "cell_type": "code",
   "execution_count": null,
   "id": "b488e84c",
   "metadata": {},
   "outputs": [],
   "source": [
    "# Start training from a pretrained *.pt model\n",
    "# !yolo detect train data=tballs.yaml model=yolov8n.pt epochs=10 imgsz=640\n",
    "\n",
    "# Build a new model from YAML and start training from scratch\n",
    "# yolo detect train data=tballs.yaml model=yolov8n.yaml epochs=10 imgsz=640\n",
    "\n",
    "# Build a new model from YAML, transfer pretrained weights to it and start training\n",
    "# yolo detect train data=tballs.yaml model=yolov8n.yaml pretrained=yolov8n.pt epochs=10 imgsz=640\n"
   ]
  },
  {
   "cell_type": "markdown",
   "id": "d233fd45",
   "metadata": {},
   "source": [
    "## Preparing Data\n",
    "With the train-test-validation dataset already uploaded onto cnvrg.io and specified while provisioning the workspace, the dataset can be referred to under `/data`"
   ]
  },
  {
   "cell_type": "code",
   "execution_count": 22,
   "id": "5a5dc698",
   "metadata": {},
   "outputs": [
    {
     "name": "stdout",
     "output_type": "stream",
     "text": [
      "tennis-ball\n"
     ]
    }
   ],
   "source": [
    "!ls /data"
   ]
  },
  {
   "cell_type": "code",
   "execution_count": null,
   "id": "4de93f6c",
   "metadata": {},
   "outputs": [],
   "source": []
  },
  {
   "cell_type": "markdown",
   "id": "ce7fec0d",
   "metadata": {},
   "source": [
    "## Train YOLOv8 model\n",
    "Using YOLOv8 as the foundational model, we can train and fit the model to detect specific objects."
   ]
  },
  {
   "cell_type": "code",
   "execution_count": 4,
   "id": "c4960f0d",
   "metadata": {},
   "outputs": [
    {
     "name": "stderr",
     "output_type": "stream",
     "text": [
      "Ultralytics YOLOv8.0.113 🚀 Python-3.8.10 torch-1.14.0a0+44dac51 CPU\n",
      "WARNING ⚠️ Upgrade to torch>=2.0.0 for deterministic training.\n",
      "\u001b[34m\u001b[1myolo/engine/trainer: \u001b[0mtask=detect, mode=train, model=yolov8n.pt, data=tballs.yaml, epochs=10, patience=50, batch=16, imgsz=640, save=True, save_period=-1, cache=False, device=cpu, workers=8, project=None, name=None, exist_ok=False, pretrained=False, optimizer=SGD, verbose=True, seed=0, deterministic=True, single_cls=False, rect=False, cos_lr=False, close_mosaic=0, resume=False, amp=True, fraction=1.0, profile=False, overlap_mask=True, mask_ratio=4, dropout=0.0, val=True, split=val, save_json=False, save_hybrid=False, conf=None, iou=0.7, max_det=300, half=False, dnn=False, plots=True, source=None, show=False, save_txt=False, save_conf=False, save_crop=False, show_labels=True, show_conf=True, vid_stride=1, line_width=None, visualize=False, augment=False, agnostic_nms=False, classes=None, retina_masks=False, boxes=True, format=torchscript, keras=False, optimize=False, int8=False, dynamic=False, simplify=False, opset=None, workspace=4, nms=False, lr0=0.01, lrf=0.01, momentum=0.937, weight_decay=0.0005, warmup_epochs=3.0, warmup_momentum=0.8, warmup_bias_lr=0.1, box=7.5, cls=0.5, dfl=1.5, pose=12.0, kobj=1.0, label_smoothing=0.0, nbs=64, hsv_h=0.015, hsv_s=0.7, hsv_v=0.4, degrees=0.0, translate=0.1, scale=0.5, shear=0.0, perspective=0.0, flipud=0.0, fliplr=0.5, mosaic=1.0, mixup=0.0, copy_paste=0.0, cfg=None, v5loader=False, tracker=botsort.yaml, save_dir=runs/detect/train\n",
      "Overriding model.yaml nc=80 with nc=1\n",
      "\n",
      "                   from  n    params  module                                       arguments                     \n",
      "  0                  -1  1       464  ultralytics.nn.modules.conv.Conv             [3, 16, 3, 2]                 \n",
      "  1                  -1  1      4672  ultralytics.nn.modules.conv.Conv             [16, 32, 3, 2]                \n",
      "  2                  -1  1      7360  ultralytics.nn.modules.block.C2f             [32, 32, 1, True]             \n",
      "  3                  -1  1     18560  ultralytics.nn.modules.conv.Conv             [32, 64, 3, 2]                \n",
      "  4                  -1  2     49664  ultralytics.nn.modules.block.C2f             [64, 64, 2, True]             \n",
      "  5                  -1  1     73984  ultralytics.nn.modules.conv.Conv             [64, 128, 3, 2]               \n",
      "  6                  -1  2    197632  ultralytics.nn.modules.block.C2f             [128, 128, 2, True]           \n",
      "  7                  -1  1    295424  ultralytics.nn.modules.conv.Conv             [128, 256, 3, 2]              \n",
      "  8                  -1  1    460288  ultralytics.nn.modules.block.C2f             [256, 256, 1, True]           \n",
      "  9                  -1  1    164608  ultralytics.nn.modules.block.SPPF            [256, 256, 5]                 \n",
      " 10                  -1  1         0  torch.nn.modules.upsampling.Upsample         [None, 2, 'nearest']          \n",
      " 11             [-1, 6]  1         0  ultralytics.nn.modules.conv.Concat           [1]                           \n",
      " 12                  -1  1    148224  ultralytics.nn.modules.block.C2f             [384, 128, 1]                 \n",
      " 13                  -1  1         0  torch.nn.modules.upsampling.Upsample         [None, 2, 'nearest']          \n",
      " 14             [-1, 4]  1         0  ultralytics.nn.modules.conv.Concat           [1]                           \n",
      " 15                  -1  1     37248  ultralytics.nn.modules.block.C2f             [192, 64, 1]                  \n",
      " 16                  -1  1     36992  ultralytics.nn.modules.conv.Conv             [64, 64, 3, 2]                \n",
      " 17            [-1, 12]  1         0  ultralytics.nn.modules.conv.Concat           [1]                           \n",
      " 18                  -1  1    123648  ultralytics.nn.modules.block.C2f             [192, 128, 1]                 \n",
      " 19                  -1  1    147712  ultralytics.nn.modules.conv.Conv             [128, 128, 3, 2]              \n",
      " 20             [-1, 9]  1         0  ultralytics.nn.modules.conv.Concat           [1]                           \n",
      " 21                  -1  1    493056  ultralytics.nn.modules.block.C2f             [384, 256, 1]                 \n",
      " 22        [15, 18, 21]  1    751507  ultralytics.nn.modules.head.Detect           [1, [64, 128, 256]]           \n",
      "Model summary: 225 layers, 3011043 parameters, 3011027 gradients\n",
      "\n",
      "Transferred 319/355 items from pretrained weights\n",
      "\u001b[34m\u001b[1mTensorBoard: \u001b[0mStart with 'tensorboard --logdir runs/detect/train', view at http://localhost:6006/\n",
      "\u001b[34m\u001b[1mtrain: \u001b[0mScanning /data/tennis-ball/train/Tennis-ball/labels.cache... 382 images, 0 backgrounds, 0 corrupt: 100% 382/382 [00:00<?, ?it/s]\n",
      "\u001b[34m\u001b[1mtrain: \u001b[0mWARNING ⚠️ /data/tennis-ball/train/Tennis-ball/images/2497e41cea655ddc.jpg: 1 duplicate labels removed\n",
      "\u001b[34m\u001b[1mval: \u001b[0mScanning /data/tennis-ball/validation/Tennis-ball/labels.cache... 6 images, 0 backgrounds, 0 corrupt: 100% 6/6 [00:00<?, ?it/s]\n",
      "Plotting labels to runs/detect/train/labels.jpg... \n",
      "\u001b[34m\u001b[1moptimizer:\u001b[0m SGD(lr=0.01, momentum=0.937) with parameter groups 57 weight(decay=0.0), 64 weight(decay=0.0005), 63 bias(decay=0.0)\n",
      "Image sizes 640 train, 640 val\n",
      "Using 0 dataloader workers\n",
      "Logging results to \u001b[1mruns/detect/train\u001b[0m\n",
      "Starting training for 10 epochs...\n",
      "\n",
      "      Epoch    GPU_mem   box_loss   cls_loss   dfl_loss  Instances       Size\n",
      "       1/10         0G     0.8739       3.05      1.049         47        640: 100% 24/24 [01:48<00:00,  4.51s/it]\n",
      "                 Class     Images  Instances      Box(P          R      mAP50  mAP50-95): 100% 1/1 [00:00<00:00,  1.12it/s]\n",
      "                   all          6          6    0.00278      0.833    0.00755    0.00367\n",
      "\n",
      "      Epoch    GPU_mem   box_loss   cls_loss   dfl_loss  Instances       Size\n",
      "       2/10         0G     0.9897       1.77      1.061         30        640: 100% 24/24 [01:46<00:00,  4.43s/it]\n",
      "                 Class     Images  Instances      Box(P          R      mAP50  mAP50-95): 100% 1/1 [00:00<00:00,  1.07it/s]\n",
      "                   all          6          6    0.00278      0.833     0.0871     0.0747\n",
      "\n",
      "      Epoch    GPU_mem   box_loss   cls_loss   dfl_loss  Instances       Size\n",
      "       3/10         0G     0.9715      1.399      1.018         20        640: 100% 24/24 [01:46<00:00,  4.43s/it]\n",
      "                 Class     Images  Instances      Box(P          R      mAP50  mAP50-95): 100% 1/1 [00:00<00:00,  1.27it/s]\n",
      "                   all          6          6    0.00333          1      0.529      0.386\n",
      "\n",
      "      Epoch    GPU_mem   box_loss   cls_loss   dfl_loss  Instances       Size\n",
      "       4/10         0G     0.9575      1.271      1.049         27        640: 100% 24/24 [01:45<00:00,  4.38s/it]\n",
      "                 Class     Images  Instances      Box(P          R      mAP50  mAP50-95): 100% 1/1 [00:00<00:00,  1.11it/s]\n",
      "                   all          6          6          1      0.649      0.948      0.663\n",
      "\n",
      "      Epoch    GPU_mem   box_loss   cls_loss   dfl_loss  Instances       Size\n",
      "       5/10         0G     0.9894      1.253      1.047         39        640: 100% 24/24 [01:44<00:00,  4.36s/it]\n",
      "                 Class     Images  Instances      Box(P          R      mAP50  mAP50-95): 100% 1/1 [00:00<00:00,  1.27it/s]\n",
      "                   all          6          6          1      0.968      0.995      0.697\n",
      "\n",
      "      Epoch    GPU_mem   box_loss   cls_loss   dfl_loss  Instances       Size\n",
      "       6/10         0G      1.027      1.244       1.05         50        640: 100% 24/24 [01:49<00:00,  4.55s/it]\n",
      "                 Class     Images  Instances      Box(P          R      mAP50  mAP50-95): 100% 1/1 [00:00<00:00,  1.12it/s]\n",
      "                   all          6          6      0.962          1      0.995      0.471\n",
      "\n",
      "      Epoch    GPU_mem   box_loss   cls_loss   dfl_loss  Instances       Size\n",
      "       7/10         0G     0.9987      1.139      1.049         35        640: 100% 24/24 [01:45<00:00,  4.39s/it]\n",
      "                 Class     Images  Instances      Box(P          R      mAP50  mAP50-95): 100% 1/1 [00:00<00:00,  1.31it/s]\n",
      "                   all          6          6      0.761      0.833      0.885      0.663\n",
      "\n",
      "      Epoch    GPU_mem   box_loss   cls_loss   dfl_loss  Instances       Size\n",
      "       8/10         0G     0.9736      1.092      1.035         20        640: 100% 24/24 [01:46<00:00,  4.42s/it]\n",
      "                 Class     Images  Instances      Box(P          R      mAP50  mAP50-95): 100% 1/1 [00:00<00:00,  1.10it/s]\n",
      "                   all          6          6      0.979          1      0.995      0.634\n",
      "\n",
      "      Epoch    GPU_mem   box_loss   cls_loss   dfl_loss  Instances       Size\n",
      "       9/10         0G     0.9705      1.039      1.008         29        640: 100% 24/24 [01:45<00:00,  4.41s/it]\n",
      "                 Class     Images  Instances      Box(P          R      mAP50  mAP50-95): 100% 1/1 [00:00<00:00,  1.30it/s]\n",
      "                   all          6          6          1       0.98      0.995      0.707\n",
      "\n",
      "      Epoch    GPU_mem   box_loss   cls_loss   dfl_loss  Instances       Size\n",
      "      10/10         0G     0.9116     0.9416     0.9973         23        640: 100% 24/24 [01:44<00:00,  4.35s/it]\n",
      "                 Class     Images  Instances      Box(P          R      mAP50  mAP50-95): 100% 1/1 [00:00<00:00,  1.08it/s]\n",
      "                   all          6          6          1      0.973      0.995      0.552\n",
      "\n",
      "10 epochs completed in 0.300 hours.\n",
      "Optimizer stripped from runs/detect/train/weights/last.pt, 6.2MB\n",
      "Optimizer stripped from runs/detect/train/weights/best.pt, 6.2MB\n",
      "\n",
      "Validating runs/detect/train/weights/best.pt...\n",
      "Ultralytics YOLOv8.0.113 🚀 Python-3.8.10 torch-1.14.0a0+44dac51 CPU\n",
      "Model summary (fused): 168 layers, 3005843 parameters, 0 gradients\n",
      "                 Class     Images  Instances      Box(P          R      mAP50  mAP50-95): 100% 1/1 [00:00<00:00,  1.42it/s]\n",
      "                   all          6          6          1      0.979      0.995      0.707\n",
      "Speed: 0.6ms preprocess, 95.5ms inference, 0.0ms loss, 1.8ms postprocess per image\n",
      "Results saved to \u001b[1mruns/detect/train\u001b[0m\n"
     ]
    }
   ],
   "source": [
    "from ultralytics import YOLO\n",
    "\n",
    "# Load a model\n",
    "# model = YOLO('yolov8n.yaml')  # build a new model from YAML\n",
    "model = YOLO('yolov8n.pt')  # load a pretrained model (recommended for training)\n",
    "# model = YOLO('yolov8n.yaml').load('yolov8n.pt')  # build from YAML and transfer weights\n",
    "\n",
    "# Train the model\n",
    "model.train(data='tballs.yaml', epochs=10, imgsz=640, device='cpu')"
   ]
  },
  {
   "cell_type": "markdown",
   "id": "1cbd854d",
   "metadata": {},
   "source": [
    "## Validate Model\n",
    "Validate the trained YOLOv8 model accuracy"
   ]
  },
  {
   "cell_type": "code",
   "execution_count": 23,
   "id": "a024528f",
   "metadata": {},
   "outputs": [
    {
     "name": "stderr",
     "output_type": "stream",
     "text": [
      "Ultralytics YOLOv8.0.113 🚀 Python-3.8.10 torch-1.14.0a0+44dac51 CPU\n",
      "Model summary (fused): 168 layers, 3005843 parameters, 0 gradients\n",
      "\u001b[34m\u001b[1mval: \u001b[0mScanning /data/tennis-ball/validation/Tennis-ball/labels.cache... 6 images, 0 backgrounds, 0 corrupt: 100% 6/6 [00:00<?, ?it/s]\n",
      "                 Class     Images  Instances      Box(P          R      mAP50  mAP50-95): 100% 1/1 [00:00<00:00,  1.42it/s]\n",
      "                   all          6          6      0.988          1      0.995       0.74\n",
      "Speed: 2.0ms preprocess, 96.4ms inference, 0.0ms loss, 0.5ms postprocess per image\n",
      "Results saved to \u001b[1mruns/detect/val\u001b[0m\n"
     ]
    },
    {
     "data": {
      "text/plain": [
       "array([    0.74026])"
      ]
     },
     "execution_count": 23,
     "metadata": {},
     "output_type": "execute_result"
    }
   ],
   "source": [
    "# Load a model\n",
    "# model = YOLO('yolov8n.pt')  # load an official model\n",
    "model = YOLO('runs/detect/train/weights/best.pt')  # load a custom model\n",
    "\n",
    "# Validate the model\n",
    "metrics = model.val()  # no arguments needed, dataset and settings remembered\n",
    "metrics.box.map    # map50-95\n",
    "metrics.box.map50  # map50\n",
    "metrics.box.map75  # map75\n",
    "metrics.box.maps   # a list contains map50-95 of each category"
   ]
  },
  {
   "cell_type": "markdown",
   "id": "b26bc2e0",
   "metadata": {},
   "source": [
    "## Prediction\n",
    "Having the freshly-trained model, we can now use it to predict what we are primarily interested in\n",
    "### Define plotting functions"
   ]
  },
  {
   "cell_type": "code",
   "execution_count": 83,
   "id": "dd0ffeba",
   "metadata": {},
   "outputs": [],
   "source": [
    "import numpy as np\n",
    "from PIL import Image\n",
    "import requests\n",
    "from io import BytesIO\n",
    "import cv2\n",
    "from matplotlib import pyplot as plt\n",
    "%matplotlib inline\n",
    "\n",
    "def box_label(image, box, label='', color=(128, 128, 128), txt_color=(255, 255, 255)):\n",
    "  lw = max(round(sum(image.shape) / 2 * 0.003), 2)\n",
    "  p1, p2 = (int(box[0]), int(box[1])), (int(box[2]), int(box[3]))\n",
    "  cv2.rectangle(image, p1, p2, color, thickness=lw, lineType=cv2.LINE_AA)\n",
    "  if label:\n",
    "    tf = max(lw - 1, 1)  # font thickness\n",
    "    w, h = cv2.getTextSize(label, 0, fontScale=lw / 3, thickness=tf)[0]  # text width, height\n",
    "    outside = p1[1] - h >= 3\n",
    "    p2 = p1[0] + w, p1[1] - h - 3 if outside else p1[1] + h + 3\n",
    "    cv2.rectangle(image, p1, p2, color, -1, cv2.LINE_AA)  # filled\n",
    "    cv2.putText(image,\n",
    "                label, (p1[0], p1[1] - 2 if outside else p1[1] + h + 2),\n",
    "                0,\n",
    "                lw / 3,\n",
    "                txt_color,\n",
    "                thickness=tf,\n",
    "                lineType=cv2.LINE_AA)\n",
    "\n",
    "def plot_bboxes(image, boxes, labels=[], colors=[], score=True, conf=None):\n",
    "    if labels == []:\n",
    "        labels = {0: u'__background__', 1: u'Tennis Ball'}\n",
    "    #Define colors\n",
    "    if colors == []:\n",
    "        colors = [(255, 100, 100), (253, 246, 160), (40, 132, 70)]\n",
    "                  \n",
    "    #plot each boxes\n",
    "    for box in boxes:\n",
    "      #add score in label if score=True\n",
    "        if score:\n",
    "            label = labels[int(box[-1])+1] + \" \" + str(round(100 * float(box[-2]),1)) + \"%\"\n",
    "        else:\n",
    "            label = labels[int(box[-1])+1]\n",
    "    #filter every box under conf threshold if conf threshold setted\n",
    "    if conf:\n",
    "        if box[-2] > conf:\n",
    "            color = colors[int(box[-1])]\n",
    "            box_label(image, box, label, color)\n",
    "        else:\n",
    "            color = colors[int(box[-1])]\n",
    "            box_label(image, box, label, color)\n",
    "    \n",
    "#     image = cv2.cvtColor(image, cv2.COLOR_BGR2RGB)\n",
    "    plt.imshow(image)\n",
    "    plt.show()"
   ]
  },
  {
   "cell_type": "markdown",
   "id": "ce6fbe80",
   "metadata": {},
   "source": [
    "### Predicting an image"
   ]
  },
  {
   "cell_type": "code",
   "execution_count": 82,
   "id": "0a3d26f9",
   "metadata": {},
   "outputs": [
    {
     "name": "stderr",
     "output_type": "stream",
     "text": [
      "\n",
      "0: 448x640 1 Tennis Ball, 83.1ms\n",
      "Speed: 8.3ms preprocess, 83.1ms inference, 1.1ms postprocess per image at shape (1, 3, 640, 640)\n"
     ]
    },
    {
     "name": "stdout",
     "output_type": "stream",
     "text": [
      "tensor([[7.3824e+02, 1.1790e+02, 1.3425e+03, 6.7686e+02, 9.3486e-01, 0.0000e+00]])\n"
     ]
    },
    {
     "ename": "KeyError",
     "evalue": "1",
     "output_type": "error",
     "traceback": [
      "\u001b[0;31m---------------------------------------------------------------------------\u001b[0m",
      "\u001b[0;31mKeyError\u001b[0m                                  Traceback (most recent call last)",
      "Cell \u001b[0;32mIn[82], line 7\u001b[0m\n\u001b[1;32m      5\u001b[0m results \u001b[38;5;241m=\u001b[39m model\u001b[38;5;241m.\u001b[39mpredict(image)\n\u001b[1;32m      6\u001b[0m \u001b[38;5;28mprint\u001b[39m(results[\u001b[38;5;241m0\u001b[39m]\u001b[38;5;241m.\u001b[39mboxes\u001b[38;5;241m.\u001b[39mdata)\n\u001b[0;32m----> 7\u001b[0m \u001b[43mplot_bboxes\u001b[49m\u001b[43m(\u001b[49m\u001b[43mimage\u001b[49m\u001b[43m,\u001b[49m\u001b[43m \u001b[49m\u001b[43mresults\u001b[49m\u001b[43m[\u001b[49m\u001b[38;5;241;43m0\u001b[39;49m\u001b[43m]\u001b[49m\u001b[38;5;241;43m.\u001b[39;49m\u001b[43mboxes\u001b[49m\u001b[38;5;241;43m.\u001b[39;49m\u001b[43mdata\u001b[49m\u001b[43m,\u001b[49m\u001b[43m \u001b[49m\u001b[43mconf\u001b[49m\u001b[38;5;241;43m=\u001b[39;49m\u001b[38;5;241;43m0.5\u001b[39;49m\u001b[43m)\u001b[49m\n",
      "Cell \u001b[0;32mIn[81], line 40\u001b[0m, in \u001b[0;36mplot_bboxes\u001b[0;34m(image, boxes, labels, colors, score, conf)\u001b[0m\n\u001b[1;32m     37\u001b[0m \u001b[38;5;28;01mfor\u001b[39;00m box \u001b[38;5;129;01min\u001b[39;00m boxes:\n\u001b[1;32m     38\u001b[0m   \u001b[38;5;66;03m#add score in label if score=True\u001b[39;00m\n\u001b[1;32m     39\u001b[0m     \u001b[38;5;28;01mif\u001b[39;00m score:\n\u001b[0;32m---> 40\u001b[0m         label \u001b[38;5;241m=\u001b[39m \u001b[43mlabels\u001b[49m\u001b[43m[\u001b[49m\u001b[38;5;28;43mint\u001b[39;49m\u001b[43m(\u001b[49m\u001b[43mbox\u001b[49m\u001b[43m[\u001b[49m\u001b[38;5;241;43m-\u001b[39;49m\u001b[38;5;241;43m1\u001b[39;49m\u001b[43m]\u001b[49m\u001b[43m)\u001b[49m\u001b[38;5;241;43m+\u001b[39;49m\u001b[38;5;241;43m1\u001b[39;49m\u001b[43m]\u001b[49m \u001b[38;5;241m+\u001b[39m \u001b[38;5;124m\"\u001b[39m\u001b[38;5;124m \u001b[39m\u001b[38;5;124m\"\u001b[39m \u001b[38;5;241m+\u001b[39m \u001b[38;5;28mstr\u001b[39m(\u001b[38;5;28mround\u001b[39m(\u001b[38;5;241m100\u001b[39m \u001b[38;5;241m*\u001b[39m \u001b[38;5;28mfloat\u001b[39m(box[\u001b[38;5;241m-\u001b[39m\u001b[38;5;241m2\u001b[39m]),\u001b[38;5;241m1\u001b[39m)) \u001b[38;5;241m+\u001b[39m \u001b[38;5;124m\"\u001b[39m\u001b[38;5;124m%\u001b[39m\u001b[38;5;124m\"\u001b[39m\n\u001b[1;32m     41\u001b[0m     \u001b[38;5;28;01melse\u001b[39;00m:\n\u001b[1;32m     42\u001b[0m         label \u001b[38;5;241m=\u001b[39m labels[\u001b[38;5;28mint\u001b[39m(box[\u001b[38;5;241m-\u001b[39m\u001b[38;5;241m1\u001b[39m])\u001b[38;5;241m+\u001b[39m\u001b[38;5;241m1\u001b[39m]\n",
      "\u001b[0;31mKeyError\u001b[0m: 1"
     ]
    }
   ],
   "source": [
    "response = requests.get(\"https://www.verywellhealth.com/thmb/bcNgrTUluaM97A33EcuVUwt_HXk=/1500x0/filters:no_upscale():max_bytes(150000):strip_icc()/125847528-56a884c73df78cf7729e83dc.jpg\")\n",
    "image = Image.open(BytesIO(response.content))\n",
    "image = np.asarray(image)\n",
    "    \n",
    "results = model.predict(image)\n",
    "print(results[0].boxes.data)\n",
    "plot_bboxes(image, results[0].boxes.data, conf=0.5)"
   ]
  },
  {
   "cell_type": "markdown",
   "id": "761c707c",
   "metadata": {},
   "source": [
    "## Training and Prediction using CLI\n",
    "We can execute what we did in python using the yolo CLI as well, with training and prediction commands"
   ]
  },
  {
   "cell_type": "code",
   "execution_count": null,
   "id": "b32f730a",
   "metadata": {},
   "outputs": [],
   "source": [
    "# yolo detect val model=yolov8n.pt  # val official model\n",
    "# yolo detect val model=path/to/best.pt  # val custom model"
   ]
  },
  {
   "cell_type": "code",
   "execution_count": 40,
   "id": "017f6a07",
   "metadata": {},
   "outputs": [
    {
     "name": "stdout",
     "output_type": "stream",
     "text": [
      "Ultralytics YOLOv8.0.113 🚀 Python-3.8.10 torch-1.14.0a0+44dac51 CPU\n",
      "Model summary (fused): 168 layers, 3005843 parameters, 0 gradients\n",
      "\n",
      "Downloading https://www.verywellhealth.com/thmb/bcNgrTUluaM97A33EcuVUwt_HXk=/1500x0/filters:no_upscale():max_bytes(150000):strip_icc()/125847528-56a884c73df78cf7729e83dc.jpg to 125847528-56a884c73df78cf7729e83dc.jpg...\n",
      "100%|█████████████████████████████████████████| 135k/135k [00:00<00:00, 208kB/s]\n",
      "image 1/1 /cnvrg/125847528-56a884c73df78cf7729e83dc.jpg: 448x640 1 Tennis Ball, 85.3ms\n",
      "Speed: 11.1ms preprocess, 85.3ms inference, 1.0ms postprocess per image at shape (1, 3, 640, 640)\n",
      "Results saved to \u001b[1mruns/detect/predict2\u001b[0m\n"
     ]
    }
   ],
   "source": [
    "# yolo detect predict model=yolov8n.pt source='https://ultralytics.com/images/bus.jpg'  # predict with official model\n",
    "# !yolo detect predict model=runs/detect/train/weights/best.pt source='https://www.verywellhealth.com/thmb/bcNgrTUluaM97A33EcuVUwt_HXk=/1500x0/filters:no_upscale():max_bytes(150000):strip_icc()/125847528-56a884c73df78cf7729e83dc.jpg'"
   ]
  },
  {
   "cell_type": "code",
   "execution_count": 18,
   "id": "99e6f5cd",
   "metadata": {},
   "outputs": [],
   "source": [
    "# Copy trained weight to output folder\n",
    "!cp runs/detect/train/weights/best.pt output/best.pt"
   ]
  },
  {
   "cell_type": "markdown",
   "id": "80d37221",
   "metadata": {},
   "source": [
    "## Export Model\n",
    "Export the model into your desired format"
   ]
  },
  {
   "cell_type": "code",
   "execution_count": null,
   "id": "c4300cd9",
   "metadata": {},
   "outputs": [],
   "source": [
    "# Load a model\n",
    "model = YOLO('runs/detect/train/weights/best.ptt')  # load a custom trained\n",
    "\n",
    "# Export the model\n",
    "model.export(format='onnx')"
   ]
  }
 ],
 "metadata": {
  "kernelspec": {
   "display_name": "Python 3 (ipykernel)",
   "language": "python",
   "name": "python3"
  },
  "language_info": {
   "codemirror_mode": {
    "name": "ipython",
    "version": 3
   },
   "file_extension": ".py",
   "mimetype": "text/x-python",
   "name": "python",
   "nbconvert_exporter": "python",
   "pygments_lexer": "ipython3",
   "version": "3.8.10"
  }
 },
 "nbformat": 4,
 "nbformat_minor": 5
}
