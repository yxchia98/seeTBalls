{
 "cells": [
  {
   "cell_type": "code",
   "execution_count": null,
   "id": "32baa73d",
   "metadata": {},
   "outputs": [],
   "source": [
    "%pip install ultralytics\n",
    "import ultralytics\n",
    "ultralytics.checks()"
   ]
  },
  {
   "cell_type": "code",
   "execution_count": 11,
   "id": "89bae313-c2c4-47c9-8f31-45a0e0b2b9e7",
   "metadata": {},
   "outputs": [
    {
     "name": "stdout",
     "output_type": "stream",
     "text": [
      "/cnvrg\n"
     ]
    }
   ],
   "source": [
    "# Start training from a pretrained *.pt model\n",
    "!yolo detect train data=tballs.yaml model=yolov8n.pt epochs=10 imgsz=640\n",
    "\n",
    "# Build a new model from YAML and start training from scratch\n",
    "# yolo detect train data=tballs.yaml model=yolov8n.yaml epochs=10 imgsz=640\n",
    "\n",
    "# Build a new model from YAML, transfer pretrained weights to it and start training\n",
    "# yolo detect train data=tballs.yaml model=yolov8n.yaml pretrained=yolov8n.pt epochs=10 imgsz=640\n"
   ]
  },
  {
   "cell_type": "code",
   "execution_count": 2,
   "id": "f0a50b5a-62a8-4bec-b18b-9d138ad9f1a5",
   "metadata": {},
   "outputs": [
    {
     "name": "stdout",
     "output_type": "stream",
     "text": [
      "Traceback (most recent call last):\n",
      "  File \"./oidv6_toolkit/main.py\", line 20, in <module>\n",
      "    from modules.downloader import *\n",
      "  File \"/cnvrg/oidv6_toolkit/modules/downloader.py\", line 2, in <module>\n",
      "    import cv2\n",
      "  File \"/usr/local/lib/python3.6/dist-packages/cv2/__init__.py\", line 8, in <module>\n",
      "    from .cv2 import *\n",
      "ImportError: libGL.so.1: cannot open shared object file: No such file or directory\n"
     ]
    }
   ],
   "source": []
  }
 ],
 "metadata": {
  "kernelspec": {
   "display_name": "Python 3",
   "language": "python",
   "name": "python3"
  },
  "language_info": {
   "codemirror_mode": {
    "name": "ipython",
    "version": 3
   },
   "file_extension": ".py",
   "mimetype": "text/x-python",
   "name": "python",
   "nbconvert_exporter": "python",
   "pygments_lexer": "ipython3",
   "version": "3.6.9"
  }
 },
 "nbformat": 4,
 "nbformat_minor": 5
}
