{
 "cells": [
  {
   "cell_type": "code",
   "execution_count": 1,
   "id": "e53792e3-da4e-4223-ad94-f9db6cd09113",
   "metadata": {},
   "outputs": [
    {
     "name": "stdout",
     "output_type": "stream",
     "text": [
      "/usr/lib/python3/dist-packages/secretstorage/dhcrypto.py:15: CryptographyDeprecationWarning: int_from_bytes is deprecated, use int.from_bytes instead\n",
      "  from cryptography.utils import int_from_bytes\n",
      "/usr/lib/python3/dist-packages/secretstorage/util.py:19: CryptographyDeprecationWarning: int_from_bytes is deprecated, use int.from_bytes instead\n",
      "  from cryptography.utils import int_from_bytes\n",
      "Requirement already satisfied: pandas in /usr/local/lib/python3.6/dist-packages (from -r ./oidv6_toolkit/requirements.txt (line 1)) (1.1.5)\n",
      "Requirement already satisfied: numpy in /usr/local/lib/python3.6/dist-packages (from -r ./oidv6_toolkit/requirements.txt (line 2)) (1.19.5)\n",
      "Requirement already satisfied: awscli in /usr/local/lib/python3.6/dist-packages (from -r ./oidv6_toolkit/requirements.txt (line 3)) (1.24.10)\n",
      "Requirement already satisfied: urllib3 in /usr/local/lib/python3.6/dist-packages (from -r ./oidv6_toolkit/requirements.txt (line 5)) (1.25.11)\n",
      "Requirement already satisfied: tqdm in /usr/local/lib/python3.6/dist-packages (from -r ./oidv6_toolkit/requirements.txt (line 7)) (4.62.3)\n",
      "Requirement already satisfied: opencv-python in /usr/local/lib/python3.6/dist-packages (from -r ./oidv6_toolkit/requirements.txt (line 9)) (4.5.4.60)\n",
      "Requirement already satisfied: pytz>=2017.2 in /usr/local/lib/python3.6/dist-packages (from pandas->-r ./oidv6_toolkit/requirements.txt (line 1)) (2021.3)\n",
      "Requirement already satisfied: python-dateutil>=2.7.3 in /usr/local/lib/python3.6/dist-packages (from pandas->-r ./oidv6_toolkit/requirements.txt (line 1)) (2.8.2)\n",
      "Requirement already satisfied: docutils<0.17,>=0.10 in /usr/local/lib/python3.6/dist-packages (from awscli->-r ./oidv6_toolkit/requirements.txt (line 3)) (0.16)\n",
      "Requirement already satisfied: PyYAML<5.5,>=3.10 in /usr/local/lib/python3.6/dist-packages (from awscli->-r ./oidv6_toolkit/requirements.txt (line 3)) (5.4.1)\n",
      "Requirement already satisfied: rsa<4.8,>=3.1.2 in /usr/local/lib/python3.6/dist-packages (from awscli->-r ./oidv6_toolkit/requirements.txt (line 3)) (4.7.2)\n",
      "Requirement already satisfied: colorama<0.4.5,>=0.2.5 in /usr/local/lib/python3.6/dist-packages (from awscli->-r ./oidv6_toolkit/requirements.txt (line 3)) (0.4.4)\n",
      "Requirement already satisfied: s3transfer<0.6.0,>=0.5.0 in /usr/local/lib/python3.6/dist-packages (from awscli->-r ./oidv6_toolkit/requirements.txt (line 3)) (0.5.0)\n",
      "Requirement already satisfied: botocore==1.26.10 in /usr/local/lib/python3.6/dist-packages (from awscli->-r ./oidv6_toolkit/requirements.txt (line 3)) (1.26.10)\n",
      "Requirement already satisfied: jmespath<2.0.0,>=0.7.1 in /usr/local/lib/python3.6/dist-packages (from botocore==1.26.10->awscli->-r ./oidv6_toolkit/requirements.txt (line 3)) (0.10.0)\n",
      "Requirement already satisfied: six>=1.5 in /usr/local/lib/python3.6/dist-packages (from python-dateutil>=2.7.3->pandas->-r ./oidv6_toolkit/requirements.txt (line 1)) (1.16.0)\n",
      "Requirement already satisfied: pyasn1>=0.1.3 in /usr/local/lib/python3.6/dist-packages (from rsa<4.8,>=3.1.2->awscli->-r ./oidv6_toolkit/requirements.txt (line 3)) (0.4.8)\n",
      "\u001b[33mWARNING: Running pip as the 'root' user can result in broken permissions and conflicting behaviour with the system package manager. It is recommended to use a virtual environment instead: https://pip.pypa.io/warnings/venv\u001b[0m\n",
      "Note: you may need to restart the kernel to use updated packages.\n"
     ]
    }
   ],
   "source": [
    "%pip install -r ./oidv6_toolkit/requirements.txt"
   ]
  },
  {
   "cell_type": "code",
   "execution_count": 4,
   "id": "60f97036-6e31-4d86-a770-6c1fd84a2997",
   "metadata": {},
   "outputs": [],
   "source": [
    "%mkdir OID\n",
    "%mkdir OID/Dataset"
   ]
  },
  {
   "cell_type": "code",
   "execution_count": 11,
   "id": "89bae313-c2c4-47c9-8f31-45a0e0b2b9e7",
   "metadata": {},
   "outputs": [
    {
     "name": "stdout",
     "output_type": "stream",
     "text": [
      "/cnvrg\n"
     ]
    }
   ],
   "source": [
    "!pwd"
   ]
  },
  {
   "cell_type": "code",
   "execution_count": 2,
   "id": "f0a50b5a-62a8-4bec-b18b-9d138ad9f1a5",
   "metadata": {},
   "outputs": [
    {
     "name": "stdout",
     "output_type": "stream",
     "text": [
      "Traceback (most recent call last):\n",
      "  File \"./oidv6_toolkit/main.py\", line 20, in <module>\n",
      "    from modules.downloader import *\n",
      "  File \"/cnvrg/oidv6_toolkit/modules/downloader.py\", line 2, in <module>\n",
      "    import cv2\n",
      "  File \"/usr/local/lib/python3.6/dist-packages/cv2/__init__.py\", line 8, in <module>\n",
      "    from .cv2 import *\n",
      "ImportError: libGL.so.1: cannot open shared object file: No such file or directory\n"
     ]
    }
   ],
   "source": [
    "!python3 ./oidv6_toolkit/main.py"
   ]
  }
 ],
 "metadata": {
  "kernelspec": {
   "display_name": "Python 3",
   "language": "python",
   "name": "python3"
  },
  "language_info": {
   "codemirror_mode": {
    "name": "ipython",
    "version": 3
   },
   "file_extension": ".py",
   "mimetype": "text/x-python",
   "name": "python",
   "nbconvert_exporter": "python",
   "pygments_lexer": "ipython3",
   "version": "3.6.9"
  }
 },
 "nbformat": 4,
 "nbformat_minor": 5
}
